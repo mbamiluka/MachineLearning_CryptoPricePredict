{
  "nbformat": 4,
  "nbformat_minor": 0,
  "metadata": {
    "colab": {
      "name": "ML_FinalProject.ipynb",
      "provenance": [],
      "collapsed_sections": [],
      "authorship_tag": "ABX9TyNzB/5uXvRyM49M00UFlsz8",
      "include_colab_link": true
    },
    "kernelspec": {
      "name": "python3",
      "display_name": "Python 3"
    },
    "language_info": {
      "name": "python"
    }
  },
  "cells": [
    {
      "cell_type": "markdown",
      "metadata": {
        "id": "view-in-github",
        "colab_type": "text"
      },
      "source": [
        "<a href=\"https://colab.research.google.com/github/mbamiluka/MachineLearning_CryptoPricePredict/blob/main/ML_FinalProject.ipynb\" target=\"_parent\"><img src=\"https://colab.research.google.com/assets/colab-badge.svg\" alt=\"Open In Colab\"/></a>"
      ]
    },
    {
      "cell_type": "code",
      "metadata": {
        "id": "2lIbLfZLrub8",
        "colab": {
          "base_uri": "https://localhost:8080/",
          "height": 1000
        },
        "outputId": "bbc934a3-0c8b-412a-e525-01cf1179ba26"
      },
      "source": [
        "'''\n",
        "Machine Learning Final Project - Crypto price prediction\n",
        "using Dogecoin. Please don't make any investments based\n",
        "of the prediction of this program.\n",
        "\n",
        "__author__: Mbami Luka\n",
        "\n",
        "'''\n",
        "import numpy as np\n",
        "import pandas as pd\n",
        "import matplotlib.pyplot as plt\n",
        "from sklearn.model_selection import train_test_split\n",
        "from sklearn.ensemble import RandomForestRegressor\n",
        "from sklearn.linear_model import LinearRegression\n",
        "from termcolor import colored\n",
        "\n",
        "sep=\"--------------------------------------------------------------------------------\"\n",
        "# You can download and use your own crypto or stock data from Yahoo Finance.\n",
        "dataFrame = pd.read_csv(\"DOGE-USD.csv\") # May14th 2020 to May14th 2021\n",
        "print( colored(\"FULL TABLE OF DATA \\n\",\"blue\" ,attrs=[\"bold\"]) )\n",
        "print(dataFrame)\n",
        "print(sep)\n",
        "\n",
        "\n",
        "crypto = input(\"What's the name of your crypto? \")\n",
        "# extract the closing price column only\n",
        "dataFrame = dataFrame[['Close']]\n",
        "numDaysAhead = int ( input ( \"Predict the price of \" + crypto + \" for the next __ day(s) \\n\") )\n",
        "print(\"We will be predicting the price of\",crypto,\"in the next\", numDaysAhead, \"days\")\n",
        "print(sep)\n",
        "\n",
        "# Create prediction or y column\n",
        "# shift up in the table to get the next day price = y\n",
        "dataFrame[\"Prediction\"] = dataFrame[[\"Close\"]].shift(-numDaysAhead)\n",
        "print( colored(\"HISTORICAL DATA OF PRICE VS n DAYS AHEAD PRICE \\n\",\"blue\" ,attrs=[\"bold\"]) )\n",
        "print ( dataFrame)\n",
        "\n",
        "\n",
        "# extract independent variable or X and remove NAs\n",
        "X = np.array( dataFrame.drop( ['Prediction'], 1) )\n",
        "X = X[ : len ( dataFrame) -numDaysAhead - 1]\n",
        "\n",
        "\n",
        "# extract dependent variable or Y and remove NAs\n",
        "Y = np.array( dataFrame['Prediction'] )\n",
        "Y = Y[: -numDaysAhead - 1]\n",
        "\n",
        "\n",
        "x_train, x_test, y_train, y_test = train_test_split( X, Y, test_size = 0.2)\n",
        "\n",
        "plt.scatter(X, Y)\n",
        "plt.plot(x_train, x_train, color=\"red\")\n",
        "plt.show()\n",
        "\n",
        "forestReg = RandomForestRegressor( n_estimators = 2, random_state = 582)\n",
        "forestReg.fit ( x_train, y_train)\n",
        "print( \"Random Forest Regressor score: \", forestReg.score( x_test, y_test))\n",
        "\n",
        "linearReg = LinearRegression().fit ( x_train, y_train)\n",
        "print( \"Linear Regression score: \", linearReg.score ( x_test, y_test),\"\\n\")\n",
        "\n",
        "linearReg_Prediction = linearReg.predict(x_test)\n",
        "print( colored(\"LINEAR REGRESSION PRICE PREDICTIONS \\n\",\"blue\" ,attrs=[\"bold\"]) )\n",
        "print(linearReg_Prediction,\"\\n\")\n",
        "\n",
        "print( colored(\"ACTUAL PRICES \\n\",\"blue\" ,attrs=[\"bold\"]) )\n",
        "print(y_test)\n",
        "print(sep)\n",
        "\n",
        "\n",
        "forestReg_Prediction = forestReg.predict(x_test)\n",
        "print( colored(\"RANDOM FOREST REGRESSOR PRICE PREDICTIONS \\n\",\"blue\" ,attrs=[\"bold\"]) )\n",
        "print(forestReg_Prediction,\"\\n\")\n",
        "\n",
        "print( colored(\"ACTUAL PRICES \\n\",\"blue\" ,attrs=[\"bold\"]) )\n",
        "print(y_test)\n",
        "print(sep)\n",
        "\n",
        "#plot2\n"
      ],
      "execution_count": null,
      "outputs": [
        {
          "output_type": "stream",
          "text": [
            "\u001b[1m\u001b[34mFULL TABLE OF DATA \n",
            "\u001b[0m\n",
            "           Date      Open      High  ...     Close  Adj Close        Volume\n",
            "0    2020-11-14  0.002821  0.002821  ...  0.002773   0.002773  3.033438e+07\n",
            "1    2020-11-15  0.002773  0.002813  ...  0.002775   0.002775  2.513168e+07\n",
            "2    2020-11-16  0.002775  0.003009  ...  0.002886   0.002886  5.206328e+07\n",
            "3    2020-11-17  0.002908  0.002976  ...  0.002936   0.002936  4.663146e+07\n",
            "4    2020-11-18  0.002936  0.002999  ...  0.002909   0.002909  4.946006e+07\n",
            "..          ...       ...       ...  ...       ...        ...           ...\n",
            "177  2021-05-10  0.569687  0.569687  ...  0.449964   0.449964  1.651452e+10\n",
            "178  2021-05-11  0.450488  0.546651  ...  0.495231   0.495231  1.456698e+10\n",
            "179  2021-05-12  0.493742  0.519975  ...  0.385376   0.385376  8.621338e+09\n",
            "180  2021-05-13  0.392176  0.519461  ...  0.490374   0.490374  1.866317e+10\n",
            "181  2021-05-14       NaN       NaN  ...       NaN        NaN           NaN\n",
            "\n",
            "[182 rows x 7 columns]\n",
            "--------------------------------------------------------------------------------\n",
            "What's the name of your crypto? qqq\n",
            "Predict the price of qqq for the next __ day(s) \n",
            "1\n",
            "We will be predicting the price of qqq in the next 1 days\n",
            "--------------------------------------------------------------------------------\n",
            "\u001b[1m\u001b[34mHISTORICAL DATA OF PRICE VS n DAYS AHEAD PRICE \n",
            "\u001b[0m\n",
            "        Close  Prediction\n",
            "0    0.002773    0.002775\n",
            "1    0.002775    0.002886\n",
            "2    0.002886    0.002936\n",
            "3    0.002936    0.002909\n",
            "4    0.002909    0.002911\n",
            "..        ...         ...\n",
            "177  0.449964    0.495231\n",
            "178  0.495231    0.385376\n",
            "179  0.385376    0.490374\n",
            "180  0.490374         NaN\n",
            "181       NaN         NaN\n",
            "\n",
            "[182 rows x 2 columns]\n"
          ],
          "name": "stdout"
        },
        {
          "output_type": "display_data",
          "data": {
            "image/png": "[encoded data removed]",
            "text/plain": [
              "<Figure size 432x288 with 1 Axes>"
            ]
          },
          "metadata": {
            "tags": [],
            "needs_background": "light"
          }
        },
        {
          "output_type": "stream",
          "text": [
            "Random Forest Regressor score:  0.9462624797184603\n",
            "Linear Regression score:  0.9633974142995674 \n",
            "\n",
            "\u001b[1m\u001b[34mLINEAR REGRESSION PRICE PREDICTIONS \n",
            "\u001b[0m\n",
            "[0.07251096 0.01159642 0.00656227 0.44966327 0.54027987 0.04022341\n",
            " 0.06543083 0.00668029 0.05669149 0.06188432 0.05510171 0.01259809\n",
            " 0.06052958 0.00688757 0.32442254 0.24986938 0.07290172 0.00658905\n",
            " 0.01378819 0.00710873 0.06031933 0.00648888 0.00757882 0.05666471\n",
            " 0.00636888 0.06672804 0.49455702 0.00676955 0.05791829 0.05686505\n",
            " 0.00627169 0.05662405 0.06458486 0.01309991 0.06436668 0.32027502] \n",
            "\n",
            "\u001b[1m\u001b[34mACTUAL PRICES \n",
            "\u001b[0m\n",
            "[0.070069 0.007482 0.003158 0.495231 0.657633 0.053289 0.056591 0.003397\n",
            " 0.047392 0.057234 0.061949 0.009067 0.078782 0.003329 0.305169 0.270212\n",
            " 0.072896 0.003416 0.009742 0.003858 0.058328 0.003079 0.003727 0.054052\n",
            " 0.003507 0.074649 0.385376 0.003342 0.053556 0.053657 0.002936 0.061986\n",
            " 0.063845 0.009767 0.061684 0.306925]\n",
            "--------------------------------------------------------------------------------\n",
            "\u001b[1m\u001b[34mRANDOM FOREST REGRESSOR PRICE PREDICTIONS \n",
            "\u001b[0m\n",
            "[0.06645    0.00859767 0.00331827 0.45869    0.5673705  0.034875\n",
            " 0.0583822  0.00331827 0.049376   0.05946433 0.0527     0.00915209\n",
            " 0.0565935  0.00331827 0.407318   0.2608925  0.06645    0.00331827\n",
            " 0.01001125 0.00392105 0.0585395  0.00331827 0.00448567 0.049376\n",
            " 0.00331827 0.0588972  0.495649   0.00331827 0.054384   0.049376\n",
            " 0.00331827 0.049376   0.05788667 0.0098938  0.05788667 0.407318  ] \n",
            "\n",
            "\u001b[1m\u001b[34mACTUAL PRICES \n",
            "\u001b[0m\n",
            "[0.070069 0.007482 0.003158 0.495231 0.657633 0.053289 0.056591 0.003397\n",
            " 0.047392 0.057234 0.061949 0.009067 0.078782 0.003329 0.305169 0.270212\n",
            " 0.072896 0.003416 0.009742 0.003858 0.058328 0.003079 0.003727 0.054052\n",
            " 0.003507 0.074649 0.385376 0.003342 0.053556 0.053657 0.002936 0.061986\n",
            " 0.063845 0.009767 0.061684 0.306925]\n",
            "--------------------------------------------------------------------------------\n"
          ],
          "name": "stdout"
        }
      ]
    }
  ]
}